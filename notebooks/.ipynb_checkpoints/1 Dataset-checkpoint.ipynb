{
 "cells": [
  {
   "cell_type": "markdown",
   "id": "5eae810d-64eb-432b-ad81-f6091e265509",
   "metadata": {},
   "source": [
    "# Dataset\n",
    "\n",
    "[PyTorch](https://pytorch.org)'s [`torch.utils.data.Dataset`](https://docs.pytorch.org/docs/stable/data.html#torch.utils.data.Dataset) provides a clean, simple, and standard interface to arbitrary data, which can be combined with [`torch.utils.data.DataLoader`](https://docs.pytorch.org/docs/stable/data.html#torch.utils.data.DataLoader) for parallel processing."
   ]
  },
  {
   "cell_type": "code",
   "execution_count": 34,
   "id": "dbdc6383-fbed-4902-a792-99cb5fc8a188",
   "metadata": {},
   "outputs": [
    {
     "name": "stdout",
     "output_type": "stream",
     "text": [
      "The autoreload extension is already loaded. To reload it, use:\n",
      "  %reload_ext autoreload\n"
     ]
    }
   ],
   "source": [
    "%load_ext autoreload\n",
    "%autoreload 2\n",
    "    \n",
    "import sys\n",
    "import numpy as np\n",
    "from pathlib import Path\n",
    "\n",
    "project_root = Path().absolute().parent\n",
    "if str(project_root) not in sys.path:\n",
    "    sys.path.insert(0, str(project_root))\n",
    "\n",
    "from pyeval import GlobDataset, GzipPickleDataset, DataLoader, ExtractKey"
   ]
  },
  {
   "cell_type": "markdown",
   "id": "32199b99-bad9-48e0-9e8b-eca4e3470fbd",
   "metadata": {},
   "source": [
    "### `GlobDataset`\n",
    "\n",
    "A glob is a path pattern which uses, e.g., wildcards `\"*\"`, to match multiple file paths."
   ]
  },
  {
   "cell_type": "code",
   "execution_count": 5,
   "id": "41def1ff-b191-44b1-b653-4a2461d4f031",
   "metadata": {},
   "outputs": [],
   "source": [
    "glob_dataset = GlobDataset('/tmp/AA_*/*.gz')"
   ]
  },
  {
   "cell_type": "code",
   "execution_count": 6,
   "id": "e1cd455e-1b51-4376-b5ef-654bb87c6bae",
   "metadata": {},
   "outputs": [
    {
     "data": {
      "text/plain": [
       "767"
      ]
     },
     "execution_count": 6,
     "metadata": {},
     "output_type": "execute_result"
    }
   ],
   "source": [
    "len(glob_dataset)"
   ]
  },
  {
   "cell_type": "code",
   "execution_count": 7,
   "id": "df715eb1-f660-4808-9cc0-c7213b510c47",
   "metadata": {},
   "outputs": [
    {
     "data": {
      "text/plain": [
       "'/tmp/AA_clock_spect_0G/333.0_Orca_420.gz'"
      ]
     },
     "execution_count": 7,
     "metadata": {},
     "output_type": "execute_result"
    }
   ],
   "source": [
    "glob_dataset[0]"
   ]
  },
  {
   "cell_type": "markdown",
   "id": "07700065-3190-4b9a-9aa3-4ae04f4ed1f3",
   "metadata": {},
   "source": [
    "### `GzipPickleDataset`\n",
    "\n",
    "`GzipPickleDataset` extends `GlobDataset` to open, decompress and unpickle the files matched via the glob pattern."
   ]
  },
  {
   "cell_type": "code",
   "execution_count": 12,
   "id": "8479cbb0-8101-4016-8480-1ef6990b7e15",
   "metadata": {},
   "outputs": [],
   "source": [
    "gp_dataset = GzipPickleDataset('/tmp/AA_*')"
   ]
  },
  {
   "cell_type": "code",
   "execution_count": 13,
   "id": "091f8d9a-e835-4520-9f77-087aa07c9081",
   "metadata": {},
   "outputs": [
    {
     "data": {
      "text/plain": [
       "767"
      ]
     },
     "execution_count": 13,
     "metadata": {},
     "output_type": "execute_result"
    }
   ],
   "source": [
    "len(gp_dataset)"
   ]
  },
  {
   "cell_type": "code",
   "execution_count": 14,
   "id": "73b17f3f-ee1b-4e51-b4c5-43ca413b62e7",
   "metadata": {},
   "outputs": [
    {
     "data": {
      "text/plain": [
       "{'image': array([[[195, 195, 200, ..., 200, 196, 202],\n",
       "         [201, 203, 224, ..., 199, 209, 204],\n",
       "         [198, 198, 196, ..., 200, 201, 197],\n",
       "         ...,\n",
       "         [198, 196, 201, ..., 213, 198, 196],\n",
       "         [213, 202, 201, ..., 197, 198, 192],\n",
       "         [197, 203, 209, ..., 202, 198, 217]],\n",
       " \n",
       "        [[206, 198, 197, ..., 194, 202, 202],\n",
       "         [202, 206, 224, ..., 200, 201, 197],\n",
       "         [203, 195, 202, ..., 206, 191, 201],\n",
       "         ...,\n",
       "         [215, 199, 200, ..., 193, 199, 201],\n",
       "         [203, 204, 202, ..., 199, 202, 203],\n",
       "         [203, 196, 199, ..., 197, 203, 203]]], dtype=uint16),\n",
       " 'im_num': 420,\n",
       " 'run': 1164.0,\n",
       " 'TC_systime_sec': 60653869809016.0,\n",
       " 'f_blue_big_sideband': 478.0,\n",
       " 'f_blue_IMG_AOM': 394.16,\n",
       " 'f_2DMOT_AOM': 354.0,\n",
       " 'amp_2DMOT_AOM': 0.74,\n",
       " 'f_xSlower_AOM': 304.0,\n",
       " 'f_ZS_AOM': 115.0,\n",
       " 'amp_ZS_AOM': 1.0,\n",
       " 'f_green_big_sideband': 481.75,\n",
       " 'f_vexlum_Ref': 121.0,\n",
       " 'f_vexlum_AOM_op': 80.0,\n",
       " 'f_vexlum_AOM_raman': 80.0,\n",
       " 'wavemeter_ch1': 1.0,\n",
       " 'wavemeter_ch2': 2.0,\n",
       " 'wavemeter_ch3': 3.0,\n",
       " 'wavemeter_ch4': 4.0,\n",
       " 'do_green_fluo_image': 0.0,\n",
       " 'df_green_imaging_horiz': -13.4,\n",
       " 'df_green_imaging_top': -12.799999999999999,\n",
       " 'df_green_imaging_bottom': -13.5,\n",
       " 'dt_green_fluo_img': 0.05,\n",
       " 'tof_green_fluo_img': 1e-06,\n",
       " 'in_plane_B_angle_green_imaging': 0.3926875,\n",
       " 'in_plane_B_green_imaging': 16.0,\n",
       " 'use_vertical_mot_beams_green_fluo_image': 0.0,\n",
       " 'use_out_of_plane_beam': 0.0,\n",
       " 'df_green_imaging_tilted': -12.2,\n",
       " 'amp_green_imaging_tilted': 0.4,\n",
       " 'do_blowout_with_green_imaging_beam': 2.0,\n",
       " 'in_plane_B_green_imaging_tilted': 16.0,\n",
       " 'in_plane_B_angle_green_imaging_tilted': 0.3926875,\n",
       " 'amp_green_imaging_horiz_raman': 0.1,\n",
       " 'df_green_imaging_horiz_raman': -13.4,\n",
       " 'use_raman_beam_for_green_img': 0.0,\n",
       " 'fnstring': 333.0,\n",
       " 'voltage': 0.0,\n",
       " 'tof': 0.025,\n",
       " 'df_green_MOT_loading': -3.54,\n",
       " 'f_green_MOT_bottom_AOM_loading': 79.8,\n",
       " 'coil_current_MOT_loading': 4.9,\n",
       " 'amp_tweezer_AOM_MOT_compression': 0.96,\n",
       " 'final_ramp_amp': 0.07,\n",
       " 'df_green_MOT_compression': -2.1,\n",
       " 'coil_current_MOT_compression': 11.75,\n",
       " 'df_green_cooling_bluegreen_imaging': -11.700000000000001,\n",
       " 'amp_green_MOT_horiz_AOM': 1.0,\n",
       " 'amp_green_MOT_bottom_AOM': 1.0,\n",
       " 'amp_green_MOT_top_AOM': 1.0,\n",
       " 'amp_green_MOT_horiz_AOM_imaging': 0.17,\n",
       " 'amp_green_MOT_top_AOM_imaging': 0.1,\n",
       " 'amp_green_MOT_bottom_AOM_imaging': 0.15,\n",
       " 'amp_green_MOT_AOM_tweezer_bluegreen_imaging': 0.153,\n",
       " 't_MOT': 0.25,\n",
       " 't_img_pulse': 0.0001,\n",
       " 't_hold_after_compression': 0.1,\n",
       " 'current_transverse_coil_x_cMOT_final_ramp': 0.0,\n",
       " 'current_transverse_coil_y_cMOT_final_ramp': 0.125,\n",
       " 'main_coil_raman': 10.0,\n",
       " 'short_current_zero_field': 1.2,\n",
       " 'long_current_zero_fielFd': 0.0,\n",
       " 'earth_current_zero_field': 0.0,\n",
       " 'earth_current_tweezer_loading': 2.0,\n",
       " 'short_current_tweezer_loading': 0.0,\n",
       " 'long_current_tweezer_loading': 5.0,\n",
       " 'current_transverse_coil_x_tweezer_loading': 0.0,\n",
       " 'current_transverse_coil_y_tweezer_loading': 0.45,\n",
       " 'tweezer_on': 1.0,\n",
       " 'df_green_unity_projection': -3.09,\n",
       " 'tweezer_unity_projection_time': 0.05,\n",
       " 'amp_green_MOT_AOM_tweezer_unity_projection': 0.18,\n",
       " 'tweezer_recapture_off_time': 0.0,\n",
       " 'amp_blue_imaging_AOM_tweezer_bluegreen_imaging': 0.4,\n",
       " 'df_light_shift_spectroscopy': 0.0,\n",
       " 'blue_green_imaging_duration': 0.1,\n",
       " 'blue_green_imaging_duration_1': 0.1,\n",
       " 'blue_green_imaging_duration_2': 0.1,\n",
       " 'blue_green_imaging_duration_3': 0.1,\n",
       " 'dt_op_duration': 0.005,\n",
       " 'op_amplitude': 7e-05,\n",
       " 'dt_raman_duration': 2.91e-07,\n",
       " 'dt_raman_duration_2nd_pulse': 2.91e-07,\n",
       " 'ramanbeam_amplitude': 1.0,\n",
       " 'dt_blue_fluo_img': 0.01,\n",
       " 'f_blue_fluo_img_AOM': 382.16,\n",
       " 'amp_blue_fluo_img_AOM': 1.0,\n",
       " 'do_sigmax_pulse': 2.0,\n",
       " 'do_op': 2.0,\n",
       " 'df_green_cooling_tweezer_loading': -1.85,\n",
       " 'amp_tweezer_AOM_tweezer_loading': 0.96,\n",
       " 'amp_tweezer_AOM_bluegreen_imaging': 0.96,\n",
       " 'amp_tweezer_AOM_blowaway': 0.29257142857142854,\n",
       " 'earth_current_tweezer_bluegreen_imaging': 2.0,\n",
       " 'long_current_tweezer_bluegreen_imaging': 5.0,\n",
       " 'short_current_tweezer_bluegreen_imaging': 0.0,\n",
       " 'coil_current_tweezer_bluegreen_imaging': 0.0,\n",
       " 'df_vexlum_green_blowout': 29.74,\n",
       " 'df_vexlum_green_raman': -190.0,\n",
       " 'f_vexlum_ref_op_resonance': 161.35,\n",
       " 'f_vexlum_ref_raman_resonance': 121.35,\n",
       " 'f_vexlum_ref_op': 161.35,\n",
       " 'dt_blow_out_duration': 0.012,\n",
       " 'blow_out_amplitude': 0.000217,\n",
       " 'do_blowout_pulse': 2.0,\n",
       " 'earth_current_blow_out': 4.0,\n",
       " 'short_current_blow_out': 0.0,\n",
       " ' short_current_blow_out_big_supply': 0.0,\n",
       " 'long_current_blow_out': 2.0,\n",
       " 'MOT_coil_Helmholz_blow_out': 2.0,\n",
       " 'Blow_out_coil_settle_time': 0.03,\n",
       " 'f_vexlum_ref_op_blow_out': 126.0,\n",
       " 'f_vexlum_ref_raman': 121.35,\n",
       " 'current_transverse_coil_x': 0.0,\n",
       " 'current_transverse_coil_y': 0.0,\n",
       " 'in_plane_B_tweezer_blowaway': 15.0,\n",
       " 'in_plane_B_angle_tweezer_blowaway': 1.255,\n",
       " 'in_plane_B_tweezer_bluegreen_imaging': 16.0,\n",
       " 'in_plane_B_angle_tweezer_bluegreen_imaging': 0.38396111111111114,\n",
       " 'in_plane_B_tweezer_unity_projection': 5.746,\n",
       " 'f_yellow_AOM': 78.46546666666667,\n",
       " 'df_yellow_AOM': -2.0,\n",
       " 'dt_clock_duration': 0.05,\n",
       " 'b_do_clock_pulse': 1.0,\n",
       " 'f_clock_fundamental_large_sideband': 195.2924595,\n",
       " 'amp_tweezer_AOM_clock': 0.96,\n",
       " 'V_clock_reg_setpoint': 0.001,\n",
       " 'amp_clock1': 1.0,\n",
       " 'amp_clock2': 1.0,\n",
       " 'dt_clock_duration_2': 0.05,\n",
       " 'df_yellow_AOM_2': -0.115,\n",
       " 'V_clock_reg_setpoint_2': 2.9,\n",
       " 't_blue_blowout_pulse': 2.5e-05,\n",
       " 'dt_evap_hold': 0.03,\n",
       " 'amp_tweezer_AOM_evap': 0.05265,\n",
       " 'df_green_MOT_AOM_tweezer_final_cooling': -11.3,\n",
       " 'amp_green_MOT_AOM_tweezer_final_cooling': 0.043,\n",
       " 'dt_tweezer_final_cooling': 0.03,\n",
       " 'df_vexlum_green_op': 7.26,\n",
       " 'mot_axis_B_tweezer_raman': 1.3,\n",
       " 'do_ramsey': 2.0,\n",
       " 'do_spin_echo': 2.0,\n",
       " 'dt_raman_ramsey_delay': 4.898e-05,\n",
       " 'dt_raman_echo_delay': 0.0,\n",
       " 'do_sigmaz_pulse': 2.0,\n",
       " 'sigmaz_rotation_dds_amplitude': 1.0,\n",
       " 'dt_sigmaz_delay': 0.002,\n",
       " 'dt_sigmaz_duration': 0.001,\n",
       " 'composite_x_rotation_scaling_factor': 1.0,\n",
       " 'dt_blue_orca_camera_readout_1': 0.0,\n",
       " 'dt_blue_orca_camera_readout_2': 0.0,\n",
       " 'dt_blue_orca_camera_readout_3': 0.0,\n",
       " 't_ramp_duration_tweezer_loading': 0.05,\n",
       " 't_hold_after_loading': 0.05,\n",
       " 'final_ramp_amp_loading': 0.053,\n",
       " 'amp_tweezer_AOM_light_shift_spectroscopy': 1.3,\n",
       " 'green_MOT_bottom_PD_voltage_MOT_loading': 0.38539999999999996,\n",
       " 'green_MOT_bottom_PD_voltage_cMOT_ramp_final': 0.00228,\n",
       " 'green_MOT_bottom_PD_voltage_tweezer_loading_ramp_final': 0.00133,\n",
       " 'green_MOT_bottom_PD_voltage_unity_projection': 0.0562,\n",
       " 'green_MOT_bottom_PD_voltage_bluegreen_imaging': 0.0343,\n",
       " 'earth_current_MOT_loading': 6.0,\n",
       " 'dt_tweezer_hold': 0.0,\n",
       " 'green_MOT_top_PD_voltage_tweezer_final_cool': 0.00108,\n",
       " 'green_MOT_bottom_PD_voltage_tweezer_final_cool': 0.0343,\n",
       " 'dt_cooling_before_blue_green_IMG': 0.015,\n",
       " 'dt_cooling_after_blue_green_IMG': 0.015,\n",
       " 'amp_tweezer_AOM_light_shift_spec_3p1': 0.96,\n",
       " 'df_green_light_shift_spec_3p1': 0.0,\n",
       " 'amp_green_MOT_AOM_light_shift_spec_3p1': 0.07,\n",
       " 'dt_light_shift_spec_1p1': 0.05,\n",
       " 'df_light_shift_spec_1p1': 0.0,\n",
       " 'v_blowout_reg_setpoint': 0.005,\n",
       " 'v_op_reg_setpoint': 0.005,\n",
       " 'amp_tweezer_AOM_op': 0.29257142857142854,\n",
       " 'do_sigmaz_alignment_sequence': 2.0,\n",
       " 'dt_extra_ramsey_delay': 0.0,\n",
       " 'mot_axis_B_tweezer_blowaway': 0.0,\n",
       " 'in_plane_B_tweezer_op': 15.0,\n",
       " 'in_plane_B_angle_tweezer_op': 1.255,\n",
       " 'TwoD_MOT_PD_voltage_MOT_loading': 6.6,\n",
       " 'vexlum_AOM_blow_out_attenuation': 10.0,\n",
       " 'vexlum_AOM_op_attenuation': 24.0,\n",
       " 'green_MOT_top_PD_voltage_bluegreen_imaging': 0.0054,\n",
       " 'green_MOT_top_PD_voltage_cMOT_ramp_final': 0.0015400000000000001,\n",
       " 'green_MOT_top_PD_voltage_tweezer_loading_ramp_final': 0.00141,\n",
       " 'MOT_beams_bluegreen_imaging_scaling_factor': 1.0,\n",
       " 'blue_IMG_PD_voltage': 0.03,\n",
       " 'f_blue_blow_out_AOM': 375.0,\n",
       " 'amp_AOM_blue_blow_out': 0.4,\n",
       " 'blue_blow_out_PD_voltage': 0.05,\n",
       " 'blue_blow_out_duration': 0.03,\n",
       " 'cam__nImagesToCapture': 2,\n",
       " 'cam__nCapturedImages': 0,\n",
       " 'cam__roi_offset_x': 0,\n",
       " 'cam__roi_offset_y': 0,\n",
       " 'cam__take_first_image': True,\n",
       " 'cam_cam_infos': {'C15550-20UP_S/N: 000220': 0},\n",
       " 'cam_exposureRange': [7.199999999999999, 1800000000.0],\n",
       " 'cam_gainRange': [0, 0],\n",
       " 'cam_gain': 0,\n",
       " 'cam_id': None,\n",
       " 'cam_available_im_modes': ['Single', 'Take3', 'Take2'],\n",
       " 'cam_exposure': 0.11,\n",
       " 'cam_imaging_mode': 'Take2',\n",
       " 'cam_triggerMode': 1,\n",
       " 'cam__gotImage': True,\n",
       " 'crop': array([1235, 1555,  720,  770])}"
      ]
     },
     "execution_count": 14,
     "metadata": {},
     "output_type": "execute_result"
    }
   ],
   "source": [
    "gp_dataset[0]"
   ]
  },
  {
   "cell_type": "code",
   "execution_count": 35,
   "id": "a39a1664-8b37-4885-9273-3ddda9bd0d75",
   "metadata": {},
   "outputs": [],
   "source": [
    "image_only_dataset = GzipPickleDataset('/tmp/AA_*', transform=ExtractKey(\"image\"))"
   ]
  },
  {
   "cell_type": "code",
   "execution_count": 36,
   "id": "eb9aca40-ea01-4996-992f-dc4354eab7dd",
   "metadata": {},
   "outputs": [
    {
     "data": {
      "text/plain": [
       "(2, 50, 320)"
      ]
     },
     "execution_count": 36,
     "metadata": {},
     "output_type": "execute_result"
    }
   ],
   "source": [
    "image_only_dataset[0].shape"
   ]
  },
  {
   "cell_type": "markdown",
   "id": "ffc41636-f91b-414a-9218-904bf4c97539",
   "metadata": {},
   "source": [
    "### `DataLoader`\n",
    "\n",
    "Here we illustrate parallel processing via the pytorch's `DataLoader`.\n",
    "\n",
    "Let us first compare with the `Dataset` only approach:"
   ]
  },
  {
   "cell_type": "code",
   "execution_count": null,
   "id": "07d58486-069c-4d7a-bd46-ec973867e0f1",
   "metadata": {},
   "outputs": [],
   "source": [
    "%%time\n",
    "\n",
    "for item_index, images in enumerate(image_only_dataset):\n",
    "    if item_index % 10 == 0:\n",
    "        print(item_index, images.shape)"
   ]
  },
  {
   "cell_type": "markdown",
   "id": "eb8a577e-6bb6-41e0-bba4-785617d34cb3",
   "metadata": {},
   "source": [
    "Now we go with batches and two workers:"
   ]
  },
  {
   "cell_type": "code",
   "execution_count": 52,
   "id": "970f67ae-db9e-41f8-b111-c3b88d85227f",
   "metadata": {},
   "outputs": [],
   "source": [
    "parallel_loader = DataLoader(image_only_dataset, batch_size=10, num_workers=2, shuffle=False)"
   ]
  },
  {
   "cell_type": "code",
   "execution_count": 54,
   "id": "8ec8e21f-0d19-4d2f-8d2c-1b12ece4c534",
   "metadata": {},
   "outputs": [
    {
     "name": "stdout",
     "output_type": "stream",
     "text": [
      "0 (10, 2, 50, 320)\n",
      "1 (10, 2, 50, 320)\n",
      "2 (10, 2, 50, 320)\n",
      "3 (10, 2, 50, 320)\n",
      "4 (10, 2, 50, 320)\n",
      "5 (10, 2, 50, 320)\n",
      "6 (10, 2, 50, 320)\n",
      "7 (10, 2, 50, 320)\n",
      "8 (10, 2, 50, 320)\n",
      "9 (10, 2, 50, 320)\n",
      "10 (10, 2, 50, 320)\n",
      "11 (10, 2, 50, 320)\n",
      "12 (10, 2, 50, 320)\n",
      "13 (10, 2, 50, 320)\n",
      "14 (10, 2, 50, 320)\n",
      "15 (10, 2, 50, 320)\n",
      "16 (10, 2, 50, 320)\n",
      "17 (10, 2, 50, 320)\n",
      "18 (10, 2, 50, 320)\n",
      "19 (10, 2, 50, 320)\n",
      "20 (10, 2, 50, 320)\n",
      "21 (10, 2, 50, 320)\n",
      "22 (10, 2, 50, 320)\n",
      "23 (10, 2, 50, 320)\n",
      "24 (10, 2, 50, 320)\n",
      "25 (10, 2, 50, 320)\n",
      "26 (10, 2, 50, 320)\n",
      "27 (10, 2, 50, 320)\n",
      "28 (10, 2, 50, 320)\n",
      "29 (10, 2, 50, 320)\n",
      "30 (10, 2, 50, 320)\n",
      "31 (10, 2, 50, 320)\n",
      "32 (10, 2, 50, 320)\n",
      "33 (10, 2, 50, 320)\n",
      "34 (10, 2, 50, 320)\n",
      "35 (10, 2, 50, 320)\n",
      "36 (10, 2, 50, 320)\n",
      "37 (10, 2, 50, 320)\n",
      "38 (10, 2, 50, 320)\n",
      "39 (10, 2, 50, 320)\n",
      "40 (10, 2, 50, 320)\n",
      "41 (10, 2, 50, 320)\n",
      "42 (10, 2, 50, 320)\n",
      "43 (10, 2, 50, 320)\n",
      "44 (10, 2, 50, 320)\n",
      "45 (10, 2, 50, 320)\n",
      "46 (10, 2, 50, 320)\n",
      "47 (10, 2, 50, 320)\n",
      "48 (10, 2, 50, 320)\n",
      "49 (10, 2, 50, 320)\n",
      "50 (10, 2, 50, 320)\n",
      "51 (10, 2, 50, 320)\n",
      "52 (10, 2, 50, 320)\n",
      "53 (10, 2, 50, 320)\n",
      "54 (10, 2, 50, 320)\n",
      "55 (10, 2, 50, 320)\n",
      "56 (10, 2, 50, 320)\n",
      "57 (10, 2, 50, 320)\n",
      "58 (10, 2, 50, 320)\n",
      "59 (10, 2, 50, 320)\n",
      "60 (10, 2, 50, 320)\n",
      "61 (10, 2, 50, 320)\n",
      "62 (10, 2, 50, 320)\n",
      "63 (10, 2, 50, 320)\n",
      "64 (10, 2, 50, 320)\n",
      "65 (10, 2, 50, 320)\n",
      "66 (10, 2, 50, 320)\n",
      "67 (10, 2, 50, 320)\n",
      "68 (10, 2, 50, 320)\n",
      "69 (10, 2, 50, 320)\n",
      "70 (10, 2, 50, 320)\n",
      "71 (10, 2, 50, 320)\n",
      "72 (10, 2, 50, 320)\n",
      "73 (10, 2, 50, 320)\n",
      "74 (10, 2, 50, 320)\n",
      "75 (10, 2, 50, 320)\n",
      "76 (7, 2, 50, 320)\n",
      "CPU times: user 14.6 ms, sys: 14.8 ms, total: 29.4 ms\n",
      "Wall time: 11.1 s\n"
     ]
    }
   ],
   "source": [
    "%%time\n",
    "\n",
    "for batch, images in enumerate(parallel_loader):\n",
    "    print(batch, images.numpy().shape)"
   ]
  },
  {
   "cell_type": "markdown",
   "id": "d07dd56d-6d7b-41c1-a753-2825a67de757",
   "metadata": {},
   "source": [
    "As we can see there is quite some time involved in starting and stopping the worker threads. To prove this let us check the case with zero workers:"
   ]
  },
  {
   "cell_type": "code",
   "execution_count": 55,
   "id": "ac2c06ba-7aad-4e59-9da4-f9c0efced4e7",
   "metadata": {},
   "outputs": [],
   "source": [
    "batch_loader = DataLoader(image_only_dataset, batch_size=10, num_workers=0, shuffle=False)"
   ]
  },
  {
   "cell_type": "code",
   "execution_count": 56,
   "id": "ac56a7f3-34df-4652-9b2b-54eb3cf8dde6",
   "metadata": {},
   "outputs": [
    {
     "name": "stdout",
     "output_type": "stream",
     "text": [
      "0 (10, 2, 50, 320)\n",
      "1 (10, 2, 50, 320)\n",
      "2 (10, 2, 50, 320)\n",
      "3 (10, 2, 50, 320)\n",
      "4 (10, 2, 50, 320)\n",
      "5 (10, 2, 50, 320)\n",
      "6 (10, 2, 50, 320)\n",
      "7 (10, 2, 50, 320)\n",
      "8 (10, 2, 50, 320)\n",
      "9 (10, 2, 50, 320)\n",
      "10 (10, 2, 50, 320)\n",
      "11 (10, 2, 50, 320)\n",
      "12 (10, 2, 50, 320)\n",
      "13 (10, 2, 50, 320)\n",
      "14 (10, 2, 50, 320)\n",
      "15 (10, 2, 50, 320)\n",
      "16 (10, 2, 50, 320)\n",
      "17 (10, 2, 50, 320)\n",
      "18 (10, 2, 50, 320)\n",
      "19 (10, 2, 50, 320)\n",
      "20 (10, 2, 50, 320)\n",
      "21 (10, 2, 50, 320)\n",
      "22 (10, 2, 50, 320)\n",
      "23 (10, 2, 50, 320)\n",
      "24 (10, 2, 50, 320)\n",
      "25 (10, 2, 50, 320)\n",
      "26 (10, 2, 50, 320)\n",
      "27 (10, 2, 50, 320)\n",
      "28 (10, 2, 50, 320)\n",
      "29 (10, 2, 50, 320)\n",
      "30 (10, 2, 50, 320)\n",
      "31 (10, 2, 50, 320)\n",
      "32 (10, 2, 50, 320)\n",
      "33 (10, 2, 50, 320)\n",
      "34 (10, 2, 50, 320)\n",
      "35 (10, 2, 50, 320)\n",
      "36 (10, 2, 50, 320)\n",
      "37 (10, 2, 50, 320)\n",
      "38 (10, 2, 50, 320)\n",
      "39 (10, 2, 50, 320)\n",
      "40 (10, 2, 50, 320)\n",
      "41 (10, 2, 50, 320)\n",
      "42 (10, 2, 50, 320)\n",
      "43 (10, 2, 50, 320)\n",
      "44 (10, 2, 50, 320)\n",
      "45 (10, 2, 50, 320)\n",
      "46 (10, 2, 50, 320)\n",
      "47 (10, 2, 50, 320)\n",
      "48 (10, 2, 50, 320)\n",
      "49 (10, 2, 50, 320)\n",
      "50 (10, 2, 50, 320)\n",
      "51 (10, 2, 50, 320)\n",
      "52 (10, 2, 50, 320)\n",
      "53 (10, 2, 50, 320)\n",
      "54 (10, 2, 50, 320)\n",
      "55 (10, 2, 50, 320)\n",
      "56 (10, 2, 50, 320)\n",
      "57 (10, 2, 50, 320)\n",
      "58 (10, 2, 50, 320)\n",
      "59 (10, 2, 50, 320)\n",
      "60 (10, 2, 50, 320)\n",
      "61 (10, 2, 50, 320)\n",
      "62 (10, 2, 50, 320)\n",
      "63 (10, 2, 50, 320)\n",
      "64 (10, 2, 50, 320)\n",
      "65 (10, 2, 50, 320)\n",
      "66 (10, 2, 50, 320)\n",
      "67 (10, 2, 50, 320)\n",
      "68 (10, 2, 50, 320)\n",
      "69 (10, 2, 50, 320)\n",
      "70 (10, 2, 50, 320)\n",
      "71 (10, 2, 50, 320)\n",
      "72 (10, 2, 50, 320)\n",
      "73 (10, 2, 50, 320)\n",
      "74 (10, 2, 50, 320)\n",
      "75 (10, 2, 50, 320)\n",
      "76 (7, 2, 50, 320)\n",
      "CPU times: user 127 ms, sys: 43.1 ms, total: 170 ms\n",
      "Wall time: 273 ms\n"
     ]
    }
   ],
   "source": [
    "%%time\n",
    "\n",
    "for batch, images in enumerate(batch_loader):\n",
    "    print(batch, images.numpy().shape)"
   ]
  },
  {
   "cell_type": "markdown",
   "id": "83f8b582-dcf3-4320-b369-2a33145f96d8",
   "metadata": {},
   "source": [
    "Indeed, we are close to the `Dataset` only approach."
   ]
  }
 ],
 "metadata": {
  "kernelspec": {
   "display_name": "Python 3 (ipykernel)",
   "language": "python",
   "name": "python3"
  },
  "language_info": {
   "codemirror_mode": {
    "name": "ipython",
    "version": 3
   },
   "file_extension": ".py",
   "mimetype": "text/x-python",
   "name": "python",
   "nbconvert_exporter": "python",
   "pygments_lexer": "ipython3",
   "version": "3.13.5"
  }
 },
 "nbformat": 4,
 "nbformat_minor": 5
}
